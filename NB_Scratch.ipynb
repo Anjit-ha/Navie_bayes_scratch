{
 "cells": [
  {
   "cell_type": "markdown",
   "id": "2aca2b77",
   "metadata": {},
   "source": [
    "# without any libraries"
   ]
  },
  {
   "cell_type": "code",
   "execution_count": 9,
   "id": "afef31a1",
   "metadata": {},
   "outputs": [],
   "source": [
    "# Dataset\n",
    "data = [\n",
    "    {'Outlook': 'Sunny', 'Temperature': 'Hot', 'Humidity': 'High', 'Wind': 'Weak', 'PlayTennis': 'No'},\n",
    "    {'Outlook': 'Sunny', 'Temperature': 'Hot', 'Humidity': 'High', 'Wind': 'Strong', 'PlayTennis': 'No'},\n",
    "    {'Outlook': 'Overcast', 'Temperature': 'Hot', 'Humidity': 'High', 'Wind': 'Weak', 'PlayTennis': 'Yes'},\n",
    "    {'Outlook': 'Rain', 'Temperature': 'Mild', 'Humidity': 'High', 'Wind': 'Weak', 'PlayTennis': 'Yes'},\n",
    "    {'Outlook': 'Rain', 'Temperature': 'Cool', 'Humidity': 'Normal', 'Wind': 'Weak', 'PlayTennis': 'Yes'},\n",
    "    {'Outlook': 'Rain', 'Temperature': 'Cool', 'Humidity': 'Normal', 'Wind': 'Strong', 'PlayTennis': 'No'},\n",
    "    {'Outlook': 'Overcast', 'Temperature': 'Cool', 'Humidity': 'Normal', 'Wind': 'Strong', 'PlayTennis': 'Yes'},\n",
    "    {'Outlook': 'Sunny', 'Temperature': 'Mild', 'Humidity': 'High', 'Wind': 'Weak', 'PlayTennis': 'No'},\n",
    "    {'Outlook': 'Sunny', 'Temperature': 'Cool', 'Humidity': 'Normal', 'Wind': 'Weak', 'PlayTennis': 'Yes'},\n",
    "    {'Outlook': 'Rain', 'Temperature': 'Mild', 'Humidity': 'Normal', 'Wind': 'Weak', 'PlayTennis': 'Yes'},\n",
    "    {'Outlook': 'Sunny', 'Temperature': 'Mild', 'Humidity': 'Normal', 'Wind': 'Strong', 'PlayTennis': 'Yes'},\n",
    "    {'Outlook': 'Overcast', 'Temperature': 'Mild', 'Humidity': 'High', 'Wind': 'Strong', 'PlayTennis': 'Yes'},\n",
    "    {'Outlook': 'Overcast', 'Temperature': 'Hot', 'Humidity': 'Normal', 'Wind': 'Weak', 'PlayTennis': 'Yes'},\n",
    "    {'Outlook': 'Rain', 'Temperature': 'Mild', 'Humidity': 'High', 'Wind': 'Strong', 'PlayTennis': 'No'}\n",
    "]"
   ]
  },
  {
   "cell_type": "code",
   "execution_count": 10,
   "id": "7f343339",
   "metadata": {},
   "outputs": [],
   "source": [
    "\n",
    "# Features to predict\n",
    "test_case = {'Outlook': 'Sunny', 'Temperature': 'Cool', 'Humidity': 'High', 'Wind': 'Strong'}"
   ]
  },
  {
   "cell_type": "code",
   "execution_count": 11,
   "id": "10886b2f",
   "metadata": {},
   "outputs": [],
   "source": [
    "\n",
    "# Step 1: Calculate Priors P(yes) and P(no)\n",
    "total = len(data)\n",
    "yes_count = sum(1 for d in data if d['PlayTennis'] == 'Yes')\n",
    "no_count = total - yes_count\n",
    "\n",
    "prior_yes = yes_count / total\n",
    "prior_no = no_count / total"
   ]
  },
  {
   "cell_type": "code",
   "execution_count": 12,
   "id": "d02f283d",
   "metadata": {},
   "outputs": [],
   "source": [
    "\n",
    "# Step 2: Calculate Likelihoods for each feature\n",
    "def likelihood(feature, value, target_value):\n",
    "    count = sum(1 for d in data if d[feature] == value and d['PlayTennis'] == target_value)\n",
    "    target_total = sum(1 for d in data if d['PlayTennis'] == target_value)\n",
    "    return count / target_total"
   ]
  },
  {
   "cell_type": "code",
   "execution_count": 13,
   "id": "426dda7d",
   "metadata": {},
   "outputs": [],
   "source": [
    "likelihoods_yes = {feature: likelihood(feature, value, 'Yes') for feature, value in test_case.items()}\n",
    "likelihoods_no = {feature: likelihood(feature, value, 'No') for feature, value in test_case.items()}\n"
   ]
  },
  {
   "cell_type": "code",
   "execution_count": 14,
   "id": "01c44b01",
   "metadata": {},
   "outputs": [],
   "source": [
    "# Step 3: Calculate unnormalized probabilities\n",
    "v_yes = prior_yes * likelihoods_yes['Outlook'] * likelihoods_yes['Temperature'] * likelihoods_yes['Humidity'] * likelihoods_yes['Wind']\n",
    "v_no = prior_no * likelihoods_no['Outlook'] * likelihoods_no['Temperature'] * likelihoods_no['Humidity'] * likelihoods_no['Wind']\n"
   ]
  },
  {
   "cell_type": "code",
   "execution_count": 15,
   "id": "28705e6e",
   "metadata": {},
   "outputs": [],
   "source": [
    "# Step 4: Normalize\n",
    "normalized_yes = v_yes / (v_yes + v_no)\n",
    "normalized_no = v_no / (v_yes + v_no)"
   ]
  },
  {
   "cell_type": "code",
   "execution_count": 16,
   "id": "b2a94857",
   "metadata": {},
   "outputs": [
    {
     "name": "stdout",
     "output_type": "stream",
     "text": [
      "Unnormalized P(Yes|X) = 0.005291005291005291\n",
      "Unnormalized P(No|X) = 0.02057142857142857\n",
      "\n",
      "Normalized P(Yes|X) = 0.20458265139116202\n",
      "Normalized P(No|X) = 0.795417348608838\n"
     ]
    }
   ],
   "source": [
    "# Output results\n",
    "print(f\"Unnormalized P(Yes|X) = {v_yes}\")\n",
    "print(f\"Unnormalized P(No|X) = {v_no}\")\n",
    "\n",
    "print(f\"\\nNormalized P(Yes|X) = {normalized_yes}\")\n",
    "print(f\"Normalized P(No|X) = {normalized_no}\")\n"
   ]
  },
  {
   "cell_type": "code",
   "execution_count": 17,
   "id": "14a1ad1a",
   "metadata": {},
   "outputs": [
    {
     "name": "stdout",
     "output_type": "stream",
     "text": [
      "\n",
      "Decision: Do not play Tennis (No)\n"
     ]
    }
   ],
   "source": [
    "if normalized_yes > normalized_no:\n",
    "    print(\"\\nDecision: Play Tennis (Yes)\")\n",
    "else:\n",
    "    print(\"\\nDecision: Do not play Tennis (No)\")\n"
   ]
  },
  {
   "cell_type": "code",
   "execution_count": null,
   "id": "4b5f64e5",
   "metadata": {},
   "outputs": [],
   "source": []
  },
  {
   "cell_type": "code",
   "execution_count": null,
   "id": "1fd6e615",
   "metadata": {},
   "outputs": [],
   "source": []
  },
  {
   "cell_type": "code",
   "execution_count": null,
   "id": "245dc310",
   "metadata": {},
   "outputs": [],
   "source": [
    "\n"
   ]
  }
 ],
 "metadata": {
  "kernelspec": {
   "display_name": "Python 3 (ipykernel)",
   "language": "python",
   "name": "python3"
  },
  "language_info": {
   "codemirror_mode": {
    "name": "ipython",
    "version": 3
   },
   "file_extension": ".py",
   "mimetype": "text/x-python",
   "name": "python",
   "nbconvert_exporter": "python",
   "pygments_lexer": "ipython3",
   "version": "3.11.3"
  }
 },
 "nbformat": 4,
 "nbformat_minor": 5
}
